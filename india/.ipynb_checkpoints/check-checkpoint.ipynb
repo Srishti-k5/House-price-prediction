{
 "cells": [
  {
   "cell_type": "code",
   "execution_count": 1,
   "id": "e1e73a7a",
   "metadata": {},
   "outputs": [],
   "source": [
    "import requests\n",
    "from bs4 import BeautifulSoup\n",
    "import pandas as pd"
   ]
  },
  {
   "cell_type": "code",
   "execution_count": 2,
   "id": "00be4f77",
   "metadata": {},
   "outputs": [],
   "source": [
    "cities = [\n",
    "    \"Ahmedabad\",\n",
    "    \"Bangalore\",\n",
    "    \"Chennai\",\n",
    "    \"Gurgaon\",\n",
    "    \"Hyderabad\",\n",
    "    \"Indore\",\n",
    "    \"Jaipur\",\n",
    "    \"Kolkata\",\n",
    "    \"Lucknow\",\n",
    "    \"Mumbai\",\n",
    "    \"Navi Mumbai\",\n",
    "    \"New Delhi\",\n",
    "    \"Noida\",\n",
    "    \"Pune\",\n",
    "    \"Thane\",\n",
    "    \"Agra\",\n",
    "    \"Ahmadnagar\",\n",
    "    \"Allahabad\",\n",
    "    \"Aluva\",\n",
    "    \"Amritsar\",\n",
    "    \"Aurangabad\",\n",
    "    \"Badlapur\",\n",
    "    \"Bareilly\",\n",
    "    \"Belgaum\",\n",
    "    \"Bhiwadi\",\n",
    "    \"Bhiwandi\",\n",
    "    \"Bhopal\",\n",
    "    \"Bhubaneswar\",\n",
    "    \"Bokaro Steel City\",\n",
    "    \"Chandigarh\",\n",
    "    \"Chengalpattu\",\n",
    "    \"Coimbatore\",\n",
    "    \"Dehradun\",\n",
    "    \"Durgapur\",\n",
    "    \"Ernakulam\",\n",
    "    \"Erode\",\n",
    "    \"Faridabad\",\n",
    "    \"Ghaziabad\",\n",
    "    \"Goa\",\n",
    "    \"Gorakhpur\",\n",
    "    \"Greater Noida\",\n",
    "    \"Guntur\",\n",
    "    \"Guwahati\",\n",
    "    \"Gwalior\",\n",
    "    \"Haridwar\",\n",
    "    \"Hosur\",\n",
    "    \"Hubli\",\n",
    "    \"Jabalpur\",\n",
    "    \"Jalandhar\",\n",
    "    \"Jammu\",\n",
    "    \"Jamshedpur\",\n",
    "    \"Jodhpur\",\n",
    "    \"Kalyan\",\n",
    "    \"Kannur\",\n",
    "    \"Kanpur\",\n",
    "    \"Khopoli\",\n",
    "    \"Kochi\",\n",
    "    \"Kodaikanal\",\n",
    "    \"Kottayam\",\n",
    "    \"Kozhikode\",\n",
    "    \"Lonavala\",\n",
    "    \"Ludhiana\",\n",
    "    \"Madurai\",\n",
    "    \"Mangalore\",\n",
    "    \"Mohali\",\n",
    "    \"Mysore\",\n",
    "    \"Nagpur\",\n",
    "    \"Nainital\",\n",
    "    \"Nanded\",\n",
    "    \"Nashik\",\n",
    "    \"Navsari\",\n",
    "    \"Nellore\",\n",
    "    \"Newtown\",\n",
    "    \"Ooty\",\n",
    "    \"Palakkad\",\n",
    "    \"Palghar\",\n",
    "    \"Panchkula\",\n",
    "    \"Patiala\",\n",
    "    \"Patna\",\n",
    "    \"Pondicherry\",\n",
    "    \"Raipur\",\n",
    "    \"Rajahmundry\",\n",
    "    \"Ranchi\",\n",
    "    \"Salem\",\n",
    "    \"Satara\",\n",
    "    \"Shimla\",\n",
    "    \"Siliguri\",\n",
    "    \"Solapur\",\n",
    "    \"Sonipat\",\n",
    "    \"Surat\",\n",
    "    \"Thanjavur\",\n",
    "    \"Thrissur\",\n",
    "    \"Tirunelveli\",\n",
    "    \"Tirupati\",\n",
    "    \"Tirupur\",\n",
    "    \"Trichy\",\n",
    "    \"Trivandrum\",\n",
    "    \"Tumkur\",\n",
    "    \"Udaipur\",\n",
    "    \"Udupi\",\n",
    "    \"Vadodara\",\n",
    "    \"Vapi\",\n",
    "    \"Varanasi\",\n",
    "    \"Vijayawada\",\n",
    "    \"Visakhapatnam\",\n",
    "    \"Vrindavan\",\n",
    "    \"Zirakpur\"\n",
    "]\n"
   ]
  },
  {
   "cell_type": "code",
   "execution_count": null,
   "id": "4f58432e",
   "metadata": {},
   "outputs": [],
   "source": [
    "arrs = []\n",
    "for city in cities:\n",
    "    url = f\"https://www.magicbricks.com/property-for-sale/residential-commercial-agricultural-real-estate?bedroom=1,2,3,4,5,%3E5&proptype=Multistorey-Apartment,Builder-Floor-Apartment,Penthouse,Studio-Apartment,Residential-House,Villa,Residential-Plot,Commercial-Office-Space,Office-ITPark-SEZ,Commercial-Shop,Commercial-Showroom,Commercial-Land,Industrial-Land,Warehouse-Godown,Industrial-Building,Industrial-Shed,Agricultural-Land,Farm-House&cityName={city}&BudgetMin=5-Lacs&BudgetMax=20-Crores\"\n",
    "    response = requests.get(url)\n",
    "    html = response.text\n",
    "    soup = BeautifulSoup(html, 'html.parser')\n",
    "    grand1 = soup.find_all('div', class_='mb-srp__card')\n",
    "    for child in grand1:\n",
    "        title = child.find('div',class_=\"mb-srp__card__summary__list\")\n",
    "        arrs.append(title.text)\n",
    "\n",
    "len(arrs)"
   ]
  },
  {
   "cell_type": "code",
   "execution_count": null,
   "id": "8d93e59d",
   "metadata": {},
   "outputs": [],
   "source": [
    "arrs"
   ]
  },
  {
   "cell_type": "code",
   "execution_count": null,
   "id": "307eb3ef",
   "metadata": {},
   "outputs": [],
   "source": [
    "df = pd.DataFrame(arrs, columns=[\"City\"])\n",
    "\n",
    "# Specify the Excel file name\n",
    "excel_file_name = \"cities.xlsx\"\n",
    "\n",
    "# Write the DataFrame to an Excel file\n",
    "df.to_excel(excel_file_name, index=False)"
   ]
  },
  {
   "cell_type": "code",
   "execution_count": null,
   "id": "7fa126a2",
   "metadata": {},
   "outputs": [],
   "source": [
    "url = \"https://www.magicbricks.com/property-for-sale/residential-commercial-agricultural-real-estate?bedroom=1,2,3,4,5,%3E5&proptype=Multistorey-Apartment,Builder-Floor-Apartment,Penthouse,Studio-Apartment,Residential-House,Villa,Residential-Plot,Commercial-Office-Space,Office-ITPark-SEZ,Commercial-Shop,Commercial-Showroom,Commercial-Land,Industrial-Land,Warehouse-Godown,Industrial-Building,Industrial-Shed,Agricultural-Land,Farm-House&cityName=Thane&BudgetMin=5-Lacs&BudgetMax=20-Crores\""
   ]
  },
  {
   "cell_type": "code",
   "execution_count": null,
   "id": "a8bbbf62",
   "metadata": {},
   "outputs": [],
   "source": [
    "response = requests.get(url)\n",
    "html = response.text"
   ]
  },
  {
   "cell_type": "code",
   "execution_count": null,
   "id": "e07ff525",
   "metadata": {},
   "outputs": [],
   "source": [
    "soup = BeautifulSoup(html, 'html.parser')"
   ]
  },
  {
   "cell_type": "code",
   "execution_count": null,
   "id": "09a62b46",
   "metadata": {},
   "outputs": [],
   "source": [
    "# grand = soup.find_all('div', class_='mb-srp__card__info')"
   ]
  },
  {
   "cell_type": "code",
   "execution_count": null,
   "id": "97448169",
   "metadata": {},
   "outputs": [],
   "source": [
    "# grand"
   ]
  },
  {
   "cell_type": "code",
   "execution_count": null,
   "id": "5c7c5cbd",
   "metadata": {},
   "outputs": [],
   "source": [
    "# carpet_area = []\n",
    "# status = []\n",
    "# transaction = []\n",
    "# furnishing = []\n",
    "# bathroom = []\n",
    "# for carpet in grand:\n",
    "#     cpt = carpet.find('div', class_='mb-srp__card__summary__list--item', attrs={'data-summary': 'carpet-area' })\n",
    "#     if cpt:\n",
    "#         carpet_area.append(cpt.text)\n",
    "#     else:\n",
    "#         carpet_area.append(None)  # or any other placeholder value\n",
    "\n",
    "#     stts = carpet.find('div', class_='mb-srp__card__summary__list--item', attrs={'data-summary': 'status' })\n",
    "#     if stts:\n",
    "#         status.append(stts.text)\n",
    "#     else:\n",
    "#         status.append(None)\n",
    "#         transac = carpet.find('div', class_='mb-srp__card__summary__list--item', attrs={'data-summary': 'transaction' })\n",
    "#         transaction.append(transac.text)\n",
    "#         furnish = carpet.find('div', class_='mb-srp__card__summary__list--item', attrs={'data-summary': 'furnishing' })\n",
    "#         furnishing.append(furnish.text)\n",
    "#         bath = carpet.find('div', class_='mb-srp__card__summary__list--item', attrs={'data-summary': 'bathroom' })\n",
    "#         bathroom.append(bath.text)\n",
    "        \n",
    "        \n",
    "#     carpet_area.append(cpt)\n",
    "# len(carpet_area)\n",
    "# len(status)"
   ]
  },
  {
   "cell_type": "code",
   "execution_count": null,
   "id": "80927c2c",
   "metadata": {},
   "outputs": [],
   "source": [
    "# len(status)"
   ]
  },
  {
   "cell_type": "code",
   "execution_count": null,
   "id": "b5b5ca30",
   "metadata": {},
   "outputs": [],
   "source": [
    "# status"
   ]
  },
  {
   "cell_type": "code",
   "execution_count": null,
   "id": "8df73bba",
   "metadata": {},
   "outputs": [],
   "source": [
    "# transac"
   ]
  },
  {
   "cell_type": "code",
   "execution_count": null,
   "id": "e5335868",
   "metadata": {},
   "outputs": [],
   "source": [
    "# len(furnishing)"
   ]
  },
  {
   "cell_type": "code",
   "execution_count": null,
   "id": "cdbac6ff",
   "metadata": {},
   "outputs": [],
   "source": [
    "# len(bathroom)"
   ]
  },
  {
   "cell_type": "code",
   "execution_count": null,
   "id": "c65ddf6e",
   "metadata": {},
   "outputs": [],
   "source": []
  },
  {
   "cell_type": "code",
   "execution_count": null,
   "id": "2f21c89e",
   "metadata": {},
   "outputs": [],
   "source": [
    "grand1 = soup.find_all('div', class_='mb-srp__list')\n",
    "len(grand1)"
   ]
  },
  {
   "cell_type": "code",
   "execution_count": null,
   "id": "d825cfdb",
   "metadata": {},
   "outputs": [],
   "source": [
    "# titles = []\n",
    "# prices = []\n",
    "\n",
    "# areas = []\n",
    "# statuses = []\n",
    "# transactions = []\n",
    "# furnishings = []\n",
    "# bathrooms = []\n",
    "# for child in grand1:\n",
    "#     title = child.find('h2',class_=\"mb-srp__card--title\")\n",
    "#     price = child.find('div',class_=\"mb-srp__card__price--amount\")\n",
    "#     area = child.find('div',class_=\"mb-srp__card__summary--value\")\n",
    "#     status = child.find('div',class_=\"mb-srp__card__summary--label\")\n",
    "#     transaction = child.find('div',class_=\"mb-srp__card__summary--value\")\n",
    "#     furnishing = child.find('div',class_=\"mb-srp__card__summary--value\")\n",
    "#     bathroom = child.find('div',class_=\"mb-srp__card__summary--value\")\n",
    "    \n",
    "#     titles.append(title.text)\n",
    "#     prices.append(price.text)\n",
    "#     areas.append(area.text)\n",
    "#     statuses.append(status.text)\n",
    "#     transactions.append(transaction.text)\n",
    "#     furnishings.append(furnishing.text)\n",
    "#     bathrooms.append(bathroom.text)\n",
    "# # len(statuses)\n",
    "# statuses"
   ]
  },
  {
   "cell_type": "code",
   "execution_count": null,
   "id": "db3f2ca5",
   "metadata": {},
   "outputs": [],
   "source": [
    "arrs = []\n",
    "for child in grand1:\n",
    "    title = child.find('div',class_=\"mb-srp__card__summary__list\")\n",
    "    arrs.append(title.text)\n",
    "# len(statuses)\n",
    "len(arrs)"
   ]
  },
  {
   "cell_type": "code",
   "execution_count": null,
   "id": "2bb4a577",
   "metadata": {},
   "outputs": [],
   "source": [
    "arrs"
   ]
  },
  {
   "cell_type": "code",
   "execution_count": null,
   "id": "e6a58820",
   "metadata": {},
   "outputs": [],
   "source": [
    "\n"
   ]
  },
  {
   "cell_type": "code",
   "execution_count": null,
   "id": "d1b9e2d1",
   "metadata": {},
   "outputs": [],
   "source": []
  },
  {
   "cell_type": "code",
   "execution_count": null,
   "id": "37f88c51",
   "metadata": {},
   "outputs": [],
   "source": [
    "cities = [\n",
    "    \"Ahmedabad\",\n",
    "    \"Bangalore\",\n",
    "    \"Chennai\",\n",
    "    \"Gurgaon\",\n",
    "    \"Hyderabad\",\n",
    "    \"Indore\",\n",
    "    \"Jaipur\",\n",
    "    \"Kolkata\",\n",
    "    \"Lucknow\",\n",
    "    \"Mumbai\",\n",
    "    \"Navi Mumbai\",\n",
    "    \"New Delhi\",\n",
    "    \"Noida\",\n",
    "    \"Pune\",\n",
    "    \"Thane\",\n",
    "    \"Agra\",\n",
    "    \"Ahmadnagar\",\n",
    "    \"Allahabad\",\n",
    "    \"Aluva\",\n",
    "    \"Amritsar\",\n",
    "    \"Aurangabad\",\n",
    "    \"Badlapur\",\n",
    "    \"Bareilly\",\n",
    "    \"Belgaum\",\n",
    "    \"Bhiwadi\",\n",
    "    \"Bhiwandi\",\n",
    "    \"Bhopal\",\n",
    "    \"Bhubaneswar\",\n",
    "    \"Bokaro Steel City\",\n",
    "    \"Chandigarh\",\n",
    "    \"Chengalpattu\",\n",
    "    \"Coimbatore\",\n",
    "    \"Dehradun\",\n",
    "    \"Durgapur\",\n",
    "    \"Ernakulam\",\n",
    "    \"Erode\",\n",
    "    \"Faridabad\",\n",
    "    \"Ghaziabad\",\n",
    "    \"Goa\",\n",
    "    \"Gorakhpur\",\n",
    "    \"Greater Noida\",\n",
    "    \"Guntur\",\n",
    "    \"Guwahati\",\n",
    "    \"Gwalior\",\n",
    "    \"Haridwar\",\n",
    "    \"Hosur\",\n",
    "    \"Hubli\",\n",
    "    \"Jabalpur\",\n",
    "    \"Jalandhar\",\n",
    "    \"Jammu\",\n",
    "    \"Jamshedpur\",\n",
    "    \"Jodhpur\",\n",
    "    \"Kalyan\",\n",
    "    \"Kannur\",\n",
    "    \"Kanpur\",\n",
    "    \"Khopoli\",\n",
    "    \"Kochi\",\n",
    "    \"Kodaikanal\",\n",
    "    \"Kottayam\",\n",
    "    \"Kozhikode\",\n",
    "    \"Lonavala\",\n",
    "    \"Ludhiana\",\n",
    "    \"Madurai\",\n",
    "    \"Mangalore\",\n",
    "    \"Mohali\",\n",
    "    \"Mysore\",\n",
    "    \"Nagpur\",\n",
    "    \"Nainital\",\n",
    "    \"Nanded\",\n",
    "    \"Nashik\",\n",
    "    \"Navsari\",\n",
    "    \"Nellore\",\n",
    "    \"Newtown\",\n",
    "    \"Ooty\",\n",
    "    \"Palakkad\",\n",
    "    \"Palghar\",\n",
    "    \"Panchkula\",\n",
    "    \"Patiala\",\n",
    "    \"Patna\",\n",
    "    \"Pondicherry\",\n",
    "    \"Raipur\",\n",
    "    \"Rajahmundry\",\n",
    "    \"Ranchi\",\n",
    "    \"Salem\",\n",
    "    \"Satara\",\n",
    "    \"Shimla\",\n",
    "    \"Siliguri\",\n",
    "    \"Solapur\",\n",
    "    \"Sonipat\",\n",
    "    \"Surat\",\n",
    "    \"Thanjavur\",\n",
    "    \"Thrissur\",\n",
    "    \"Tirunelveli\",\n",
    "    \"Tirupati\",\n",
    "    \"Tirupur\",\n",
    "    \"Trichy\",\n",
    "    \"Trivandrum\",\n",
    "    \"Tumkur\",\n",
    "    \"Udaipur\",\n",
    "    \"Udupi\",\n",
    "    \"Vadodara\",\n",
    "    \"Vapi\",\n",
    "    \"Varanasi\",\n",
    "    \"Vijayawada\",\n",
    "    \"Visakhapatnam\",\n",
    "    \"Vrindavan\",\n",
    "    \"Zirakpur\"\n",
    "]\n"
   ]
  },
  {
   "cell_type": "code",
   "execution_count": null,
   "id": "41e76de6",
   "metadata": {},
   "outputs": [],
   "source": [
    "len(cities)"
   ]
  },
  {
   "cell_type": "code",
   "execution_count": 1,
   "id": "7a243fef",
   "metadata": {},
   "outputs": [],
   "source": [
    "import requests\n",
    "from bs4 import BeautifulSoup\n",
    "import pandas as pd"
   ]
  },
  {
   "cell_type": "code",
   "execution_count": 2,
   "id": "a339a6d2",
   "metadata": {},
   "outputs": [],
   "source": [
    "urlx = 'https://www.magicbricks.com/property-for-sale/residential-commercial-agricultural-real-estate?bedroom=1,2,3,4,5,%3E5&proptype=Multistorey-Apartment,Builder-Floor-Apartment,Penthouse,Studio-Apartment,Residential-House,Villa,Residential-Plot,Commercial-Office-Space,Office-ITPark-SEZ,Commercial-Shop,Commercial-Showroom,Commercial-Land,Industrial-Land,Warehouse-Godown,Industrial-Building,Industrial-Shed,Agricultural-Land,Farm-House&cityName=Ahmadnagar&BudgetMin=5-Lacs&BudgetMax=20-Crores'"
   ]
  },
  {
   "cell_type": "code",
   "execution_count": 3,
   "id": "1274c2d9",
   "metadata": {},
   "outputs": [],
   "source": [
    "response = requests.get(urlx)\n",
    "htmlx = response.text\n",
    "soupx = BeautifulSoup(htmlx, 'html.parser')\n",
    "#     grand1 = soup.find_all('div', class_='mb-srp__card')\n",
    "#     for child in grand1:\n",
    "#         title = child.find('div',class_=\"mb-srp__card__summary__list\")\n",
    "#         arrs.append(title.text)"
   ]
  },
  {
   "cell_type": "code",
   "execution_count": 4,
   "id": "7fa94035",
   "metadata": {},
   "outputs": [],
   "source": [
    "grandx = soupx.find_all('div', class_='mb-srp__list')"
   ]
  },
  {
   "cell_type": "code",
   "execution_count": 5,
   "id": "421e9936",
   "metadata": {},
   "outputs": [
    {
     "data": {
      "text/plain": [
       "30"
      ]
     },
     "execution_count": 5,
     "metadata": {},
     "output_type": "execute_result"
    }
   ],
   "source": [
    "len(grandx)"
   ]
  },
  {
   "cell_type": "code",
   "execution_count": 64,
   "id": "76db4b85",
   "metadata": {},
   "outputs": [],
   "source": [
    "info = []\n",
    "super_area = []\n",
    "carpet_area = []\n",
    "transaction = []\n",
    "status = []\n",
    "furnishing = []\n",
    "floor = []\n",
    "bathroom = []\n",
    "facing = []\n",
    "balcony = []\n",
    "prices = []"
   ]
  },
  {
   "cell_type": "code",
   "execution_count": 65,
   "id": "352b1359",
   "metadata": {},
   "outputs": [],
   "source": [
    "# data_summary = ['super-area', 'carpet-area']\n",
    "for child in grandx:\n",
    "    INF = child.find('h2',class_=\"mb-srp__card--title\")\n",
    "    if INF:\n",
    "        info.append(INF.text)\n",
    "    else:\n",
    "        info.append(\"\")\n",
    "        \n",
    "    SUP_PAR = child.find('div',class_=\"mb-srp__card__summary__list--item\", attrs={\"data-summary\": \"super-area\"})\n",
    "    if SUP_PAR:\n",
    "        SUP = SUP_PAR.find('div',class_=\"mb-srp__card__summary--value\")\n",
    "        super_area.append(SUP.text)\n",
    "    else:\n",
    "        super_area.append(\"\")\n",
    "        \n",
    "    CAR_PAR = child.find('div',class_=\"mb-srp__card__summary__list--item\", attrs={\"data-summary\": \"carpet-area\"})\n",
    "    if CAR_PAR:\n",
    "        CAR = CAR_PAR.find('div',class_=\"mb-srp__card__summary--value\")\n",
    "        carpet_area.append(CAR.text)\n",
    "    else:\n",
    "        carpet_area.append(\"\")\n",
    "        \n",
    "    TRA_PAR = child.find('div',class_=\"mb-srp__card__summary__list--item\", attrs={\"data-summary\": \"transaction\"})\n",
    "    if TRA_PAR:\n",
    "        TRA = TRA_PAR.find('div',class_=\"mb-srp__card__summary--value\")\n",
    "        transaction.append(TRA.text)\n",
    "    else:\n",
    "        transaction.append(\"\")\n",
    "        \n",
    "    STA_PAR = child.find('div',class_=\"mb-srp__card__summary__list--item\", attrs={\"data-summary\": \"status\"})\n",
    "    if STA_PAR:\n",
    "        STA = STA_PAR.find('div',class_=\"mb-srp__card__summary--value\")\n",
    "        status.append(STA.text)\n",
    "    else:\n",
    "        status.append(\"\")\n",
    "        \n",
    "    FUR_PAR = child.find('div',class_=\"mb-srp__card__summary__list--item\", attrs={\"data-summary\": \"furnishing\"})\n",
    "    if FUR_PAR:\n",
    "        FUR = FUR_PAR.find('div',class_=\"mb-srp__card__summary--value\")\n",
    "        furnishing.append(FUR.text)\n",
    "    else:\n",
    "        furnishing.append(\"\")\n",
    "        \n",
    "    FLO_PAR = child.find('div',class_=\"mb-srp__card__summary__list--item\", attrs={\"data-summary\": \"floor\"})\n",
    "    if FLO_PAR:\n",
    "        FLO = FLO_PAR.find('div',class_=\"mb-srp__card__summary--value\")\n",
    "        floor.append(FLO.text)\n",
    "    else:\n",
    "        floor.append(\"\")\n",
    "        \n",
    "    BAT_PAR = child.find('div',class_=\"mb-srp__card__summary__list--item\", attrs={\"data-summary\": \"bathroom\"})\n",
    "    if BAT_PAR:\n",
    "        BAT = BAT_PAR.find('div',class_=\"mb-srp__card__summary--value\")\n",
    "        bathroom.append(BAT.text)\n",
    "    else:\n",
    "        bathroom.append(\"\")\n",
    "        \n",
    "    FAC_PAR = child.find('div',class_=\"mb-srp__card__summary__list--item\", attrs={\"data-summary\": \"facing\"})\n",
    "    if FAC_PAR:\n",
    "        FAC = FAC_PAR.find('div',class_=\"mb-srp__card__summary--value\")\n",
    "        facing.append(FAC.text)\n",
    "    else:\n",
    "        facing.append(\"\")\n",
    "    \n",
    "    BAL_PAR = child.find('div',class_=\"mb-srp__card__summary__list--item\", attrs={\"data-summary\": \"balcony\"})\n",
    "    if BAL_PAR:\n",
    "        BAL = BAL_PAR.find('div',class_=\"mb-srp__card__summary--value\")\n",
    "        balcony.append(BAL.text)\n",
    "    else:\n",
    "        balcony.append(\"\")\n",
    "        \n",
    "    PRI = child.find('span',class_=\"mb-srp__card__price--amount\")\n",
    "    if PRI:\n",
    "        prices.append(PRI.text.strip())\n",
    "    else:\n",
    "        prices.append(\"\")"
   ]
  },
  {
   "cell_type": "code",
   "execution_count": 66,
   "id": "0774b9d8",
   "metadata": {},
   "outputs": [
    {
     "data": {
      "text/plain": [
       "['',\n",
       " '',\n",
       " '',\n",
       " '',\n",
       " '',\n",
       " '',\n",
       " '',\n",
       " '',\n",
       " '',\n",
       " '',\n",
       " '',\n",
       " '',\n",
       " '',\n",
       " '',\n",
       " '',\n",
       " '',\n",
       " '',\n",
       " '',\n",
       " '',\n",
       " '',\n",
       " '',\n",
       " '',\n",
       " '',\n",
       " '',\n",
       " '',\n",
       " '',\n",
       " '',\n",
       " '',\n",
       " '',\n",
       " '']"
      ]
     },
     "execution_count": 66,
     "metadata": {},
     "output_type": "execute_result"
    }
   ],
   "source": [
    "# info\n",
    "# furnishing\n",
    "# bathroom\n",
    "# facing\n",
    "# floor\n",
    "# balcony\n",
    "prices"
   ]
  },
  {
   "cell_type": "code",
   "execution_count": 22,
   "id": "e51739fc",
   "metadata": {},
   "outputs": [
    {
     "data": {
      "text/plain": [
       "30"
      ]
     },
     "execution_count": 22,
     "metadata": {},
     "output_type": "execute_result"
    }
   ],
   "source": [
    "# len(info)"
   ]
  },
  {
   "cell_type": "code",
   "execution_count": 27,
   "id": "f03155e9",
   "metadata": {},
   "outputs": [],
   "source": [
    "# super_area"
   ]
  },
  {
   "cell_type": "code",
   "execution_count": null,
   "id": "628f33e2",
   "metadata": {},
   "outputs": [],
   "source": []
  },
  {
   "cell_type": "code",
   "execution_count": 28,
   "id": "ca74fa4c",
   "metadata": {},
   "outputs": [],
   "source": [
    "# carpet_area"
   ]
  },
  {
   "cell_type": "code",
   "execution_count": 29,
   "id": "c2965ec7",
   "metadata": {},
   "outputs": [],
   "source": [
    "# len(carpet_area)"
   ]
  },
  {
   "cell_type": "code",
   "execution_count": 30,
   "id": "55094264",
   "metadata": {},
   "outputs": [],
   "source": [
    "# transaction"
   ]
  },
  {
   "cell_type": "code",
   "execution_count": 34,
   "id": "aff53bb9",
   "metadata": {},
   "outputs": [],
   "source": [
    "# status"
   ]
  },
  {
   "cell_type": "code",
   "execution_count": null,
   "id": "f46c846f",
   "metadata": {},
   "outputs": [],
   "source": []
  }
 ],
 "metadata": {
  "kernelspec": {
   "display_name": "Python 3 (ipykernel)",
   "language": "python",
   "name": "python3"
  },
  "language_info": {
   "codemirror_mode": {
    "name": "ipython",
    "version": 3
   },
   "file_extension": ".py",
   "mimetype": "text/x-python",
   "name": "python",
   "nbconvert_exporter": "python",
   "pygments_lexer": "ipython3",
   "version": "3.10.6"
  }
 },
 "nbformat": 4,
 "nbformat_minor": 5
}
